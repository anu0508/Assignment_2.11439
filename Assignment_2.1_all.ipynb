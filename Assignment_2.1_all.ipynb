{
 "cells": [
  {
   "cell_type": "markdown",
   "metadata": {},
   "source": [
    "# Task 1:\n",
    "<h1>1.1 Write a Python Program to implement your own myreduce() function which works exactly\n",
    "like Python's built-in function reduce()</h1>"
   ]
  },
  {
   "cell_type": "code",
   "execution_count": 11,
   "metadata": {},
   "outputs": [
    {
     "name": "stdout",
     "output_type": "stream",
     "text": [
      "678\n"
     ]
    }
   ],
   "source": [
    "\n",
    "\n",
    "def my_reduce(func, iterable):\n",
    "    f_element= None\n",
    "    s_element= None\n",
    "    for element in iterable:\n",
    "        if f_element== None:\n",
    "            f_element=element\n",
    "        else:\n",
    "            s_element= element\n",
    "            f_element= func(f_element,s_element)\n",
    "    return f_element\n",
    "\n",
    "list1= [12,54,678,89,33,56]\n",
    "#using built in function max we'll check whether myreduce functions works as built in function reduce() or not.\n",
    "import math\n",
    "outp= my_reduce(max, list1)\n",
    "print(outp)"
   ]
  },
  {
   "cell_type": "markdown",
   "metadata": {},
   "source": [
    "<h1>1.2 Write a Python program to implement your own myfilter() function which works exactly likePython's built-in function filter()</h1>"
   ]
  },
  {
   "cell_type": "code",
   "execution_count": 6,
   "metadata": {},
   "outputs": [
    {
     "name": "stdout",
     "output_type": "stream",
     "text": [
      "[1234, 254, 3210]\n"
     ]
    }
   ],
   "source": [
    "\n",
    "\n",
    "#function to be passed in my_filter function\n",
    "def isEven(number):\n",
    "    if number%2==0:\n",
    "        return True\n",
    "    else:\n",
    "        return False\n",
    "\n",
    "#my_filter function\n",
    "def my_filter(callback,lisst):\n",
    "    lst=[]\n",
    "    for i in lisst:\n",
    "        if callback(i)==True:\n",
    "            lst.append(i)\n",
    "    return lst\n",
    "    \n",
    "    \n",
    "list1= [1234,254,97875,3210]\n",
    "\n",
    "result= my_filter(isEven,list1)\n",
    "print(result)"
   ]
  },
  {
   "cell_type": "markdown",
   "metadata": {},
   "source": [
    "<h1>2. Implement List comprehensions to produce the following lists.</h1>\n",
    "<h2>Write List comprehensions to produce the following Lists</h2>\n",
    "<h2>['A', 'C', 'A', 'D', 'G', 'I', ’L’, ‘ D’]</h2>"
   ]
  },
  {
   "cell_type": "code",
   "execution_count": 1,
   "metadata": {},
   "outputs": [
    {
     "name": "stdout",
     "output_type": "stream",
     "text": [
      "['A', 'C', 'A', 'D', 'G', 'I', 'L', 'D']\n"
     ]
    }
   ],
   "source": [
    "acd_list= [j for j in \"ACADGILD\"]\n",
    "print(acd_list)"
   ]
  },
  {
   "cell_type": "markdown",
   "metadata": {},
   "source": [
    "<h2>['x', 'xx', 'xxx', 'xxxx', 'y', 'yy', 'yyy', 'yyyy', 'z', 'zz', 'zzz', 'zzzz']</h2>"
   ]
  },
  {
   "cell_type": "code",
   "execution_count": 2,
   "metadata": {},
   "outputs": [
    {
     "name": "stdout",
     "output_type": "stream",
     "text": [
      "['x', 'xx', 'xxx', 'xxxx', 'y', 'yy', 'yyy', 'yyyy', 'z', 'zz', 'zzz', 'zzzz']\n"
     ]
    }
   ],
   "source": [
    "itr_list= [i*a for i in \"xyz\"  for a in range(1,5)]\n",
    "print(itr_list)"
   ]
  },
  {
   "cell_type": "markdown",
   "metadata": {},
   "source": [
    "<h2>['x', 'y', 'z', 'xx', 'yy', 'zz', 'xx', 'yy', 'zz', 'xxxx', 'yyyy', 'zzzz']</h2>"
   ]
  },
  {
   "cell_type": "code",
   "execution_count": 3,
   "metadata": {},
   "outputs": [
    {
     "name": "stdout",
     "output_type": "stream",
     "text": [
      "['x', 'y', 'z', 'xx', 'yy', 'zz', 'xxx', 'yyy', 'zzz', 'xxxx', 'yyyy', 'zzzz']\n"
     ]
    }
   ],
   "source": [
    "itr2_list= [i*j for i in range(1,5) for j in \"xyz\"]\n",
    "print(itr2_list)"
   ]
  },
  {
   "cell_type": "markdown",
   "metadata": {},
   "source": [
    "<h2>[[2], [3], [4], [3], [4], [5], [4], [5], [6]]</h2>"
   ]
  },
  {
   "cell_type": "code",
   "execution_count": 4,
   "metadata": {},
   "outputs": [
    {
     "name": "stdout",
     "output_type": "stream",
     "text": [
      "[[2], [3], [4], [3], [4], [5], [4], [5], [6]]\n"
     ]
    }
   ],
   "source": [
    "\n",
    "itr_list=[[j+i] for i in range(0,3) for j in range(2,5)]\n",
    "print(itr_list)"
   ]
  },
  {
   "cell_type": "markdown",
   "metadata": {},
   "source": [
    "<h2>[[2, 3, 4, 5], [3, 4, 5, 6], [4, 5, 6, 7], [5, 6, 7, 8]]</h2>"
   ]
  },
  {
   "cell_type": "code",
   "execution_count": 5,
   "metadata": {},
   "outputs": [
    {
     "name": "stdout",
     "output_type": "stream",
     "text": [
      "[[2, 3, 4, 5], [3, 4, 5, 6], [4, 5, 6, 7], [5, 6, 7, 8]]\n"
     ]
    }
   ],
   "source": [
    "\n",
    "itr3_list=[[i+j for i in range(0,4)] for j in range(2,6)]\n",
    "print(itr3_list)\n"
   ]
  },
  {
   "cell_type": "markdown",
   "metadata": {},
   "source": [
    "<h2>[(1, 1), (2, 1), (3, 1), (1, 2), (2, 2), (3, 2), (1, 3), (2, 3), (3, 3)]</h2>"
   ]
  },
  {
   "cell_type": "code",
   "execution_count": 7,
   "metadata": {},
   "outputs": [
    {
     "name": "stdout",
     "output_type": "stream",
     "text": [
      "[(1, 1), (2, 1), (3, 1), (1, 2), (2, 2), (3, 2), (1, 3), (2, 3), (3, 3)]\n"
     ]
    }
   ],
   "source": [
    "tupl= [(k,j)  for j in range(1,4) for k in range(1,4)]\n",
    "print(tupl)"
   ]
  },
  {
   "cell_type": "markdown",
   "metadata": {},
   "source": [
    "<h1>3. Implement a function longestWord() that takes a list of words and returns the longest one.</h1>"
   ]
  },
  {
   "cell_type": "code",
   "execution_count": 8,
   "metadata": {},
   "outputs": [
    {
     "name": "stdout",
     "output_type": "stream",
     "text": [
      "machinelearning\n"
     ]
    }
   ],
   "source": [
    "\n",
    "def longestWord(a):\n",
    "    longest_word=None      #empty varible to assign longest word\n",
    "    len_word=0              #varible to compare length of words\n",
    "    for word in a:\n",
    "        \n",
    "        if len(word) > len_word:\n",
    "            len_word =len(word)\n",
    "            longest_word = word\n",
    "    return longest_word\n",
    "\n",
    "#applying function longestWord to list of words\n",
    "x=longestWord([\"machinelearning\",\"datascience\",\"Acadgild\"])\n",
    "\n",
    "print(x)\n",
    "    "
   ]
  },
  {
   "cell_type": "markdown",
   "metadata": {},
   "source": [
    "# Task 2:"
   ]
  },
  {
   "cell_type": "markdown",
   "metadata": {},
   "source": [
    "<h1>1.1 Write a Python Program(with class concepts) to find the area of the triangle using the belowformula.</h1>\n",
    "<h2>area = (s*(s-a)*(s-b)*(s-c)) ** 0.5\n",
    "Function to take the length of the sides of triangle from user should be defined in the parent\n",
    "class and function to calculate the area should be defined in subclass.</h2>"
   ]
  },
  {
   "cell_type": "code",
   "execution_count": 12,
   "metadata": {},
   "outputs": [
    {
     "name": "stdout",
     "output_type": "stream",
     "text": [
      "24.0\n"
     ]
    }
   ],
   "source": [
    " ''\n",
    "\n",
    "import math\n",
    "class Triangle(object): #parent class\n",
    "    def __init__(self, side1,side2,side3):  #class instantiated\n",
    "        self.side1=side1\n",
    "        self.side2=side2\n",
    "        self.side3=side3\n",
    "        \n",
    "        \n",
    "class Area(Triangle):      #child class\n",
    "    def __init__(self,*args):\n",
    "        super(Area,self).__init__(*args)\n",
    "        \n",
    "    def _cal_area(self):    #method to calculate area\n",
    "        self.s= (self.side1+self.side2+self.side3)*0.5\n",
    "        self.area= (self.s*(self.s-self.side1)*(self.s-self.side2)*(self.s-self.side3))**0.5\n",
    "        return self.area\n",
    "        \n",
    "    #def __str__(self):\n",
    "       # return \"Area of Triangle is: %f\" %self.s\n",
    "       \n",
    "        \n",
    "        \n",
    "triangle1= Area(8,6,10)  \n",
    "print(triangle1._cal_area())\n",
    "\n"
   ]
  },
  {
   "cell_type": "markdown",
   "metadata": {},
   "source": [
    "<h1>1.2 Write a function filter_long_words() that takes a list of words and an integer n and returnsthe list of words that are longer than n.</h1>"
   ]
  },
  {
   "cell_type": "code",
   "execution_count": 11,
   "metadata": {},
   "outputs": [
    {
     "name": "stdout",
     "output_type": "stream",
     "text": [
      "['projector', 'assignment', 'attandance']\n"
     ]
    }
   ],
   "source": [
    "\n",
    "def filter_long_words(list,num):\n",
    "    lst=[]\n",
    "    for i in list:\n",
    "        if len(i)>num:\n",
    "            lst.append(i)\n",
    "    return lst\n",
    "\n",
    "list_sample= [\"laptop\",\"pen\",\"projector\",\"assignment\",\"attandance\"]\n",
    "Longer= filter_long_words(list_sample,8)\n",
    "\n",
    "print(Longer)\n"
   ]
  },
  {
   "cell_type": "markdown",
   "metadata": {},
   "source": [
    "<h1>2.1 Write a Python program using function concept that maps list of words into a list of integers representing the lengths of the corresponding words.\n",
    "Hint: If a list [ ab,cde,erty] is passed on to the python function output should come as [2,3,4]\n",
    "Here 2,3 and 4 are the lengths of the words in the list.</h1>"
   ]
  },
  {
   "cell_type": "code",
   "execution_count": 12,
   "metadata": {},
   "outputs": [
    {
     "name": "stdout",
     "output_type": "stream",
     "text": [
      "[6, 6, 4]\n"
     ]
    }
   ],
   "source": [
    "\n",
    "\n",
    "\n",
    "def wordtoInt(word):\n",
    "    length= len(word)\n",
    "    return length\n",
    "\n",
    "words= [\"anurag\",\"Robert\",\"Ivan\"]\n",
    "lengthofword= list(map(len,words))\n",
    "\n",
    "print(lengthofword)\n"
   ]
  },
  {
   "cell_type": "markdown",
   "metadata": {},
   "source": [
    "<h1>#2.2 Write a Python function which takes a character (i.e. a string of length 1) and returns True if\n",
    "#it is a vowel, False otherwise.</h1>"
   ]
  },
  {
   "cell_type": "code",
   "execution_count": 14,
   "metadata": {},
   "outputs": [
    {
     "name": "stdout",
     "output_type": "stream",
     "text": [
      "False\n"
     ]
    }
   ],
   "source": [
    "def isVowel(a):\n",
    "    if a in ('a','e','i','o','u'):\n",
    "        return True\n",
    "    return False\n",
    "\n",
    "\n",
    "vowel_check= isVowel('v')\n",
    "print(vowel_check)"
   ]
  },
  {
   "cell_type": "code",
   "execution_count": null,
   "metadata": {},
   "outputs": [],
   "source": []
  }
 ],
 "metadata": {
  "kernelspec": {
   "display_name": "Python 3",
   "language": "python",
   "name": "python3"
  },
  "language_info": {
   "codemirror_mode": {
    "name": "ipython",
    "version": 3
   },
   "file_extension": ".py",
   "mimetype": "text/x-python",
   "name": "python",
   "nbconvert_exporter": "python",
   "pygments_lexer": "ipython3",
   "version": "3.6.4"
  }
 },
 "nbformat": 4,
 "nbformat_minor": 2
}
